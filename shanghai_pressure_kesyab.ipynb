{
 "cells": [
  {
   "cell_type": "code",
   "execution_count": 1,
   "id": "4a414de7",
   "metadata": {},
   "outputs": [],
   "source": [
    "import numpy as np\n",
    "import pandas as pd\n",
    "import matplotlib.pyplot as plt"
   ]
  },
  {
   "cell_type": "markdown",
   "id": "60559935",
   "metadata": {},
   "source": [
    "No: row number\n",
    "\n",
    "year: year of data in this row\n",
    "\n",
    "month: month of data in this row\n",
    "\n",
    "day: day of data in this row\n",
    "\n",
    "hour: hour of data in this row\n",
    "\n",
    "season: season of data in this row\n",
    "\n",
    "PM: PM2.5 concentration (ug/m^3)\n",
    "\n",
    "DEWP: Dew Point (Celsius Degree)\n",
    "\n",
    "TEMP: Temperature (Celsius Degree)\n",
    "\n",
    "HUMI: Humidity (%)\n",
    "\n",
    "PRES: Pressure (hPa)\n",
    "\n",
    "cbwd: Combined wind direction\n",
    "\n",
    "Iws: Cumulated wind speed (m/s)\n",
    "\n",
    "precipitation: hourly precipitation (mm)\n",
    "\n",
    "Iprec: Cumulated precipitation (mm)"
   ]
  },
  {
   "cell_type": "code",
   "execution_count": 2,
   "id": "b109fb73",
   "metadata": {},
   "outputs": [],
   "source": [
    "data = pd.read_csv('Shanghai_HMT_2010.csv')"
   ]
  },
  {
   "cell_type": "code",
   "execution_count": 3,
   "id": "1a7c2c36",
   "metadata": {},
   "outputs": [
    {
     "name": "stdout",
     "output_type": "stream",
     "text": [
      "data.shape =  (52584, 17)\n"
     ]
    },
    {
     "data": {
      "text/html": [
       "<div>\n",
       "<style scoped>\n",
       "    .dataframe tbody tr th:only-of-type {\n",
       "        vertical-align: middle;\n",
       "    }\n",
       "\n",
       "    .dataframe tbody tr th {\n",
       "        vertical-align: top;\n",
       "    }\n",
       "\n",
       "    .dataframe thead th {\n",
       "        text-align: right;\n",
       "    }\n",
       "</style>\n",
       "<table border=\"1\" class=\"dataframe\">\n",
       "  <thead>\n",
       "    <tr style=\"text-align: right;\">\n",
       "      <th></th>\n",
       "      <th>No</th>\n",
       "      <th>year</th>\n",
       "      <th>month</th>\n",
       "      <th>day</th>\n",
       "      <th>hour</th>\n",
       "      <th>season</th>\n",
       "      <th>PM_Jingan</th>\n",
       "      <th>PM_US Post</th>\n",
       "      <th>PM_Xuhui</th>\n",
       "      <th>DEWP</th>\n",
       "      <th>HUMI</th>\n",
       "      <th>PRES</th>\n",
       "      <th>TEMP</th>\n",
       "      <th>cbwd</th>\n",
       "      <th>Iws</th>\n",
       "      <th>precipitation</th>\n",
       "      <th>Iprec</th>\n",
       "    </tr>\n",
       "  </thead>\n",
       "  <tbody>\n",
       "    <tr>\n",
       "      <th>0</th>\n",
       "      <td>1</td>\n",
       "      <td>2010</td>\n",
       "      <td>1</td>\n",
       "      <td>1</td>\n",
       "      <td>0</td>\n",
       "      <td>4</td>\n",
       "      <td>NaN</td>\n",
       "      <td>NaN</td>\n",
       "      <td>NaN</td>\n",
       "      <td>-6.0</td>\n",
       "      <td>59.48</td>\n",
       "      <td>1026.1</td>\n",
       "      <td>1.0</td>\n",
       "      <td>cv</td>\n",
       "      <td>1.0</td>\n",
       "      <td>0.0</td>\n",
       "      <td>0.0</td>\n",
       "    </tr>\n",
       "    <tr>\n",
       "      <th>1</th>\n",
       "      <td>2</td>\n",
       "      <td>2010</td>\n",
       "      <td>1</td>\n",
       "      <td>1</td>\n",
       "      <td>1</td>\n",
       "      <td>4</td>\n",
       "      <td>NaN</td>\n",
       "      <td>NaN</td>\n",
       "      <td>NaN</td>\n",
       "      <td>-6.0</td>\n",
       "      <td>59.48</td>\n",
       "      <td>1025.1</td>\n",
       "      <td>1.0</td>\n",
       "      <td>SE</td>\n",
       "      <td>2.0</td>\n",
       "      <td>0.0</td>\n",
       "      <td>0.0</td>\n",
       "    </tr>\n",
       "    <tr>\n",
       "      <th>2</th>\n",
       "      <td>3</td>\n",
       "      <td>2010</td>\n",
       "      <td>1</td>\n",
       "      <td>1</td>\n",
       "      <td>2</td>\n",
       "      <td>4</td>\n",
       "      <td>NaN</td>\n",
       "      <td>NaN</td>\n",
       "      <td>NaN</td>\n",
       "      <td>-7.0</td>\n",
       "      <td>59.21</td>\n",
       "      <td>1025.1</td>\n",
       "      <td>0.0</td>\n",
       "      <td>SE</td>\n",
       "      <td>4.0</td>\n",
       "      <td>0.0</td>\n",
       "      <td>0.0</td>\n",
       "    </tr>\n",
       "    <tr>\n",
       "      <th>3</th>\n",
       "      <td>4</td>\n",
       "      <td>2010</td>\n",
       "      <td>1</td>\n",
       "      <td>1</td>\n",
       "      <td>3</td>\n",
       "      <td>4</td>\n",
       "      <td>NaN</td>\n",
       "      <td>NaN</td>\n",
       "      <td>NaN</td>\n",
       "      <td>-6.0</td>\n",
       "      <td>63.94</td>\n",
       "      <td>1024.0</td>\n",
       "      <td>0.0</td>\n",
       "      <td>SE</td>\n",
       "      <td>5.0</td>\n",
       "      <td>0.0</td>\n",
       "      <td>0.0</td>\n",
       "    </tr>\n",
       "    <tr>\n",
       "      <th>4</th>\n",
       "      <td>5</td>\n",
       "      <td>2010</td>\n",
       "      <td>1</td>\n",
       "      <td>1</td>\n",
       "      <td>4</td>\n",
       "      <td>4</td>\n",
       "      <td>NaN</td>\n",
       "      <td>NaN</td>\n",
       "      <td>NaN</td>\n",
       "      <td>-6.0</td>\n",
       "      <td>63.94</td>\n",
       "      <td>1023.0</td>\n",
       "      <td>0.0</td>\n",
       "      <td>SE</td>\n",
       "      <td>8.0</td>\n",
       "      <td>0.0</td>\n",
       "      <td>0.0</td>\n",
       "    </tr>\n",
       "    <tr>\n",
       "      <th>5</th>\n",
       "      <td>6</td>\n",
       "      <td>2010</td>\n",
       "      <td>1</td>\n",
       "      <td>1</td>\n",
       "      <td>5</td>\n",
       "      <td>4</td>\n",
       "      <td>NaN</td>\n",
       "      <td>NaN</td>\n",
       "      <td>NaN</td>\n",
       "      <td>-7.0</td>\n",
       "      <td>59.21</td>\n",
       "      <td>1023.0</td>\n",
       "      <td>0.0</td>\n",
       "      <td>SE</td>\n",
       "      <td>11.0</td>\n",
       "      <td>0.0</td>\n",
       "      <td>0.0</td>\n",
       "    </tr>\n",
       "    <tr>\n",
       "      <th>6</th>\n",
       "      <td>7</td>\n",
       "      <td>2010</td>\n",
       "      <td>1</td>\n",
       "      <td>1</td>\n",
       "      <td>6</td>\n",
       "      <td>4</td>\n",
       "      <td>NaN</td>\n",
       "      <td>NaN</td>\n",
       "      <td>NaN</td>\n",
       "      <td>-6.0</td>\n",
       "      <td>59.48</td>\n",
       "      <td>1023.0</td>\n",
       "      <td>1.0</td>\n",
       "      <td>SE</td>\n",
       "      <td>14.0</td>\n",
       "      <td>0.0</td>\n",
       "      <td>0.0</td>\n",
       "    </tr>\n",
       "    <tr>\n",
       "      <th>7</th>\n",
       "      <td>8</td>\n",
       "      <td>2010</td>\n",
       "      <td>1</td>\n",
       "      <td>1</td>\n",
       "      <td>7</td>\n",
       "      <td>4</td>\n",
       "      <td>NaN</td>\n",
       "      <td>NaN</td>\n",
       "      <td>NaN</td>\n",
       "      <td>-5.0</td>\n",
       "      <td>64.18</td>\n",
       "      <td>1023.0</td>\n",
       "      <td>1.0</td>\n",
       "      <td>SE</td>\n",
       "      <td>17.0</td>\n",
       "      <td>0.0</td>\n",
       "      <td>0.0</td>\n",
       "    </tr>\n",
       "    <tr>\n",
       "      <th>8</th>\n",
       "      <td>9</td>\n",
       "      <td>2010</td>\n",
       "      <td>1</td>\n",
       "      <td>1</td>\n",
       "      <td>8</td>\n",
       "      <td>4</td>\n",
       "      <td>NaN</td>\n",
       "      <td>NaN</td>\n",
       "      <td>NaN</td>\n",
       "      <td>-3.0</td>\n",
       "      <td>69.43</td>\n",
       "      <td>1023.0</td>\n",
       "      <td>2.0</td>\n",
       "      <td>SE</td>\n",
       "      <td>20.0</td>\n",
       "      <td>0.0</td>\n",
       "      <td>0.0</td>\n",
       "    </tr>\n",
       "    <tr>\n",
       "      <th>9</th>\n",
       "      <td>10</td>\n",
       "      <td>2010</td>\n",
       "      <td>1</td>\n",
       "      <td>1</td>\n",
       "      <td>9</td>\n",
       "      <td>4</td>\n",
       "      <td>NaN</td>\n",
       "      <td>NaN</td>\n",
       "      <td>NaN</td>\n",
       "      <td>-2.0</td>\n",
       "      <td>64.90</td>\n",
       "      <td>1023.0</td>\n",
       "      <td>4.0</td>\n",
       "      <td>SE</td>\n",
       "      <td>23.0</td>\n",
       "      <td>0.0</td>\n",
       "      <td>0.0</td>\n",
       "    </tr>\n",
       "  </tbody>\n",
       "</table>\n",
       "</div>"
      ],
      "text/plain": [
       "   No  year  month  day  hour  season  PM_Jingan  PM_US Post  PM_Xuhui  DEWP  \\\n",
       "0   1  2010      1    1     0       4        NaN         NaN       NaN  -6.0   \n",
       "1   2  2010      1    1     1       4        NaN         NaN       NaN  -6.0   \n",
       "2   3  2010      1    1     2       4        NaN         NaN       NaN  -7.0   \n",
       "3   4  2010      1    1     3       4        NaN         NaN       NaN  -6.0   \n",
       "4   5  2010      1    1     4       4        NaN         NaN       NaN  -6.0   \n",
       "5   6  2010      1    1     5       4        NaN         NaN       NaN  -7.0   \n",
       "6   7  2010      1    1     6       4        NaN         NaN       NaN  -6.0   \n",
       "7   8  2010      1    1     7       4        NaN         NaN       NaN  -5.0   \n",
       "8   9  2010      1    1     8       4        NaN         NaN       NaN  -3.0   \n",
       "9  10  2010      1    1     9       4        NaN         NaN       NaN  -2.0   \n",
       "\n",
       "    HUMI    PRES  TEMP cbwd   Iws  precipitation  Iprec  \n",
       "0  59.48  1026.1   1.0   cv   1.0            0.0    0.0  \n",
       "1  59.48  1025.1   1.0   SE   2.0            0.0    0.0  \n",
       "2  59.21  1025.1   0.0   SE   4.0            0.0    0.0  \n",
       "3  63.94  1024.0   0.0   SE   5.0            0.0    0.0  \n",
       "4  63.94  1023.0   0.0   SE   8.0            0.0    0.0  \n",
       "5  59.21  1023.0   0.0   SE  11.0            0.0    0.0  \n",
       "6  59.48  1023.0   1.0   SE  14.0            0.0    0.0  \n",
       "7  64.18  1023.0   1.0   SE  17.0            0.0    0.0  \n",
       "8  69.43  1023.0   2.0   SE  20.0            0.0    0.0  \n",
       "9  64.90  1023.0   4.0   SE  23.0            0.0    0.0  "
      ]
     },
     "execution_count": 3,
     "metadata": {},
     "output_type": "execute_result"
    }
   ],
   "source": [
    "print(\"data.shape = \", data.shape)\n",
    "data.head(10)"
   ]
  },
  {
   "cell_type": "code",
   "execution_count": 4,
   "id": "f8ae32d8",
   "metadata": {},
   "outputs": [],
   "source": [
    "data = data.drop(['PM_Jingan','PM_US Post','PM_Xuhui'],axis=1).dropna()"
   ]
  },
  {
   "cell_type": "code",
   "execution_count": 5,
   "id": "a726ce6e",
   "metadata": {},
   "outputs": [
    {
     "name": "stdout",
     "output_type": "stream",
     "text": [
      "data.shape =  (48549, 14)\n"
     ]
    },
    {
     "data": {
      "text/html": [
       "<div>\n",
       "<style scoped>\n",
       "    .dataframe tbody tr th:only-of-type {\n",
       "        vertical-align: middle;\n",
       "    }\n",
       "\n",
       "    .dataframe tbody tr th {\n",
       "        vertical-align: top;\n",
       "    }\n",
       "\n",
       "    .dataframe thead th {\n",
       "        text-align: right;\n",
       "    }\n",
       "</style>\n",
       "<table border=\"1\" class=\"dataframe\">\n",
       "  <thead>\n",
       "    <tr style=\"text-align: right;\">\n",
       "      <th></th>\n",
       "      <th>No</th>\n",
       "      <th>year</th>\n",
       "      <th>month</th>\n",
       "      <th>day</th>\n",
       "      <th>hour</th>\n",
       "      <th>season</th>\n",
       "      <th>DEWP</th>\n",
       "      <th>HUMI</th>\n",
       "      <th>PRES</th>\n",
       "      <th>TEMP</th>\n",
       "      <th>cbwd</th>\n",
       "      <th>Iws</th>\n",
       "      <th>precipitation</th>\n",
       "      <th>Iprec</th>\n",
       "    </tr>\n",
       "  </thead>\n",
       "  <tbody>\n",
       "    <tr>\n",
       "      <th>0</th>\n",
       "      <td>1</td>\n",
       "      <td>2010</td>\n",
       "      <td>1</td>\n",
       "      <td>1</td>\n",
       "      <td>0</td>\n",
       "      <td>4</td>\n",
       "      <td>-6.0</td>\n",
       "      <td>59.48</td>\n",
       "      <td>1026.1</td>\n",
       "      <td>1.0</td>\n",
       "      <td>cv</td>\n",
       "      <td>1.0</td>\n",
       "      <td>0.0</td>\n",
       "      <td>0.0</td>\n",
       "    </tr>\n",
       "    <tr>\n",
       "      <th>1</th>\n",
       "      <td>2</td>\n",
       "      <td>2010</td>\n",
       "      <td>1</td>\n",
       "      <td>1</td>\n",
       "      <td>1</td>\n",
       "      <td>4</td>\n",
       "      <td>-6.0</td>\n",
       "      <td>59.48</td>\n",
       "      <td>1025.1</td>\n",
       "      <td>1.0</td>\n",
       "      <td>SE</td>\n",
       "      <td>2.0</td>\n",
       "      <td>0.0</td>\n",
       "      <td>0.0</td>\n",
       "    </tr>\n",
       "    <tr>\n",
       "      <th>2</th>\n",
       "      <td>3</td>\n",
       "      <td>2010</td>\n",
       "      <td>1</td>\n",
       "      <td>1</td>\n",
       "      <td>2</td>\n",
       "      <td>4</td>\n",
       "      <td>-7.0</td>\n",
       "      <td>59.21</td>\n",
       "      <td>1025.1</td>\n",
       "      <td>0.0</td>\n",
       "      <td>SE</td>\n",
       "      <td>4.0</td>\n",
       "      <td>0.0</td>\n",
       "      <td>0.0</td>\n",
       "    </tr>\n",
       "    <tr>\n",
       "      <th>3</th>\n",
       "      <td>4</td>\n",
       "      <td>2010</td>\n",
       "      <td>1</td>\n",
       "      <td>1</td>\n",
       "      <td>3</td>\n",
       "      <td>4</td>\n",
       "      <td>-6.0</td>\n",
       "      <td>63.94</td>\n",
       "      <td>1024.0</td>\n",
       "      <td>0.0</td>\n",
       "      <td>SE</td>\n",
       "      <td>5.0</td>\n",
       "      <td>0.0</td>\n",
       "      <td>0.0</td>\n",
       "    </tr>\n",
       "    <tr>\n",
       "      <th>4</th>\n",
       "      <td>5</td>\n",
       "      <td>2010</td>\n",
       "      <td>1</td>\n",
       "      <td>1</td>\n",
       "      <td>4</td>\n",
       "      <td>4</td>\n",
       "      <td>-6.0</td>\n",
       "      <td>63.94</td>\n",
       "      <td>1023.0</td>\n",
       "      <td>0.0</td>\n",
       "      <td>SE</td>\n",
       "      <td>8.0</td>\n",
       "      <td>0.0</td>\n",
       "      <td>0.0</td>\n",
       "    </tr>\n",
       "    <tr>\n",
       "      <th>5</th>\n",
       "      <td>6</td>\n",
       "      <td>2010</td>\n",
       "      <td>1</td>\n",
       "      <td>1</td>\n",
       "      <td>5</td>\n",
       "      <td>4</td>\n",
       "      <td>-7.0</td>\n",
       "      <td>59.21</td>\n",
       "      <td>1023.0</td>\n",
       "      <td>0.0</td>\n",
       "      <td>SE</td>\n",
       "      <td>11.0</td>\n",
       "      <td>0.0</td>\n",
       "      <td>0.0</td>\n",
       "    </tr>\n",
       "    <tr>\n",
       "      <th>6</th>\n",
       "      <td>7</td>\n",
       "      <td>2010</td>\n",
       "      <td>1</td>\n",
       "      <td>1</td>\n",
       "      <td>6</td>\n",
       "      <td>4</td>\n",
       "      <td>-6.0</td>\n",
       "      <td>59.48</td>\n",
       "      <td>1023.0</td>\n",
       "      <td>1.0</td>\n",
       "      <td>SE</td>\n",
       "      <td>14.0</td>\n",
       "      <td>0.0</td>\n",
       "      <td>0.0</td>\n",
       "    </tr>\n",
       "    <tr>\n",
       "      <th>7</th>\n",
       "      <td>8</td>\n",
       "      <td>2010</td>\n",
       "      <td>1</td>\n",
       "      <td>1</td>\n",
       "      <td>7</td>\n",
       "      <td>4</td>\n",
       "      <td>-5.0</td>\n",
       "      <td>64.18</td>\n",
       "      <td>1023.0</td>\n",
       "      <td>1.0</td>\n",
       "      <td>SE</td>\n",
       "      <td>17.0</td>\n",
       "      <td>0.0</td>\n",
       "      <td>0.0</td>\n",
       "    </tr>\n",
       "    <tr>\n",
       "      <th>8</th>\n",
       "      <td>9</td>\n",
       "      <td>2010</td>\n",
       "      <td>1</td>\n",
       "      <td>1</td>\n",
       "      <td>8</td>\n",
       "      <td>4</td>\n",
       "      <td>-3.0</td>\n",
       "      <td>69.43</td>\n",
       "      <td>1023.0</td>\n",
       "      <td>2.0</td>\n",
       "      <td>SE</td>\n",
       "      <td>20.0</td>\n",
       "      <td>0.0</td>\n",
       "      <td>0.0</td>\n",
       "    </tr>\n",
       "    <tr>\n",
       "      <th>9</th>\n",
       "      <td>10</td>\n",
       "      <td>2010</td>\n",
       "      <td>1</td>\n",
       "      <td>1</td>\n",
       "      <td>9</td>\n",
       "      <td>4</td>\n",
       "      <td>-2.0</td>\n",
       "      <td>64.90</td>\n",
       "      <td>1023.0</td>\n",
       "      <td>4.0</td>\n",
       "      <td>SE</td>\n",
       "      <td>23.0</td>\n",
       "      <td>0.0</td>\n",
       "      <td>0.0</td>\n",
       "    </tr>\n",
       "  </tbody>\n",
       "</table>\n",
       "</div>"
      ],
      "text/plain": [
       "   No  year  month  day  hour  season  DEWP   HUMI    PRES  TEMP cbwd   Iws  \\\n",
       "0   1  2010      1    1     0       4  -6.0  59.48  1026.1   1.0   cv   1.0   \n",
       "1   2  2010      1    1     1       4  -6.0  59.48  1025.1   1.0   SE   2.0   \n",
       "2   3  2010      1    1     2       4  -7.0  59.21  1025.1   0.0   SE   4.0   \n",
       "3   4  2010      1    1     3       4  -6.0  63.94  1024.0   0.0   SE   5.0   \n",
       "4   5  2010      1    1     4       4  -6.0  63.94  1023.0   0.0   SE   8.0   \n",
       "5   6  2010      1    1     5       4  -7.0  59.21  1023.0   0.0   SE  11.0   \n",
       "6   7  2010      1    1     6       4  -6.0  59.48  1023.0   1.0   SE  14.0   \n",
       "7   8  2010      1    1     7       4  -5.0  64.18  1023.0   1.0   SE  17.0   \n",
       "8   9  2010      1    1     8       4  -3.0  69.43  1023.0   2.0   SE  20.0   \n",
       "9  10  2010      1    1     9       4  -2.0  64.90  1023.0   4.0   SE  23.0   \n",
       "\n",
       "   precipitation  Iprec  \n",
       "0            0.0    0.0  \n",
       "1            0.0    0.0  \n",
       "2            0.0    0.0  \n",
       "3            0.0    0.0  \n",
       "4            0.0    0.0  \n",
       "5            0.0    0.0  \n",
       "6            0.0    0.0  \n",
       "7            0.0    0.0  \n",
       "8            0.0    0.0  \n",
       "9            0.0    0.0  "
      ]
     },
     "execution_count": 5,
     "metadata": {},
     "output_type": "execute_result"
    }
   ],
   "source": [
    "print(\"data.shape = \", data.shape)\n",
    "data.head(10)"
   ]
  },
  {
   "cell_type": "code",
   "execution_count": 6,
   "id": "cf21f4bd",
   "metadata": {},
   "outputs": [
    {
     "data": {
      "text/plain": [
       "[<matplotlib.lines.Line2D at 0x1a6120e2cd0>,\n",
       " <matplotlib.lines.Line2D at 0x1a6120e2d00>]"
      ]
     },
     "execution_count": 6,
     "metadata": {},
     "output_type": "execute_result"
    },
    {
     "data": {
      "image/png": "[encoded data removed]",
      "text/plain": [
       "<Figure size 432x288 with 1 Axes>"
      ]
     },
     "metadata": {
      "needs_background": "light"
     },
     "output_type": "display_data"
    }
   ],
   "source": [
    "plt.plot((data['year']*12+data['month'])*30+data['day'],data[['PRES','season']]*[1,250])"
   ]
  },
  {
   "cell_type": "code",
   "execution_count": 7,
   "id": "441de162",
   "metadata": {},
   "outputs": [],
   "source": [
    "from sklearn.model_selection import train_test_split\n",
    "from sklearn.linear_model import LinearRegression\n",
    "from sklearn.metrics import mean_squared_error as mse, explained_variance_score"
   ]
  },
  {
   "cell_type": "code",
   "execution_count": 8,
   "id": "8ad46f07",
   "metadata": {},
   "outputs": [],
   "source": [
    "X_train, X_test, y_train, y_test = train_test_split(data[['HUMI','TEMP']], data['PRES'], test_size=0.2)"
   ]
  },
  {
   "cell_type": "code",
   "execution_count": 9,
   "id": "8c576e6b",
   "metadata": {},
   "outputs": [],
   "source": [
    "model = LinearRegression()\n",
    "model.fit(X_train,y_train)\n",
    "predictions = model.predict(X_test)"
   ]
  },
  {
   "cell_type": "code",
   "execution_count": 10,
   "id": "c9a9aec7",
   "metadata": {},
   "outputs": [],
   "source": [
    "y_test2 = y_test"
   ]
  },
  {
   "cell_type": "code",
   "execution_count": 11,
   "id": "6a967de8",
   "metadata": {},
   "outputs": [
    {
     "data": {
      "text/plain": [
       "array([-6.42516521,  7.03749341,  2.53925225, ..., -0.08533502,\n",
       "        0.92848152, -4.02096635])"
      ]
     },
     "execution_count": 11,
     "metadata": {},
     "output_type": "execute_result"
    }
   ],
   "source": [
    "np.array(y_test)- predictions"
   ]
  },
  {
   "cell_type": "code",
   "execution_count": 12,
   "id": "062a9139",
   "metadata": {},
   "outputs": [
    {
     "data": {
      "text/plain": [
       "18.928171986131954"
      ]
     },
     "execution_count": 12,
     "metadata": {},
     "output_type": "execute_result"
    }
   ],
   "source": [
    "mse(predictions, y_test)"
   ]
  },
  {
   "cell_type": "markdown",
   "id": "59163fd7",
   "metadata": {},
   "source": [
    "Попробуем с нормализованными данными"
   ]
  },
  {
   "cell_type": "code",
   "execution_count": 13,
   "id": "df4496e2",
   "metadata": {},
   "outputs": [
    {
     "name": "stderr",
     "output_type": "stream",
     "text": [
      "C:\\Users\\battl\\AppData\\Local\\Temp/ipykernel_8644/813400618.py:1: FutureWarning: Dropping of nuisance columns in DataFrame reductions (with 'numeric_only=None') is deprecated; in a future version this will raise TypeError.  Select only valid columns before calling the reduction.\n",
      "  data = ((data - data.mean())/data.std()).dropna(axis=1)\n"
     ]
    }
   ],
   "source": [
    "data = ((data - data.mean())/data.std()).dropna(axis=1)"
   ]
  },
  {
   "cell_type": "code",
   "execution_count": 14,
   "id": "6b9d35e1",
   "metadata": {},
   "outputs": [
    {
     "data": {
      "text/html": [
       "<div>\n",
       "<style scoped>\n",
       "    .dataframe tbody tr th:only-of-type {\n",
       "        vertical-align: middle;\n",
       "    }\n",
       "\n",
       "    .dataframe tbody tr th {\n",
       "        vertical-align: top;\n",
       "    }\n",
       "\n",
       "    .dataframe thead th {\n",
       "        text-align: right;\n",
       "    }\n",
       "</style>\n",
       "<table border=\"1\" class=\"dataframe\">\n",
       "  <thead>\n",
       "    <tr style=\"text-align: right;\">\n",
       "      <th></th>\n",
       "      <th>DEWP</th>\n",
       "      <th>HUMI</th>\n",
       "      <th>Iprec</th>\n",
       "      <th>Iws</th>\n",
       "      <th>No</th>\n",
       "      <th>PRES</th>\n",
       "      <th>TEMP</th>\n",
       "      <th>day</th>\n",
       "      <th>hour</th>\n",
       "      <th>month</th>\n",
       "      <th>precipitation</th>\n",
       "      <th>season</th>\n",
       "      <th>year</th>\n",
       "    </tr>\n",
       "  </thead>\n",
       "  <tbody>\n",
       "    <tr>\n",
       "      <th>0</th>\n",
       "      <td>-1.697416</td>\n",
       "      <td>-0.542800</td>\n",
       "      <td>-0.141337</td>\n",
       "      <td>-0.628298</td>\n",
       "      <td>-1.798378</td>\n",
       "      <td>1.081375</td>\n",
       "      <td>-1.716469</td>\n",
       "      <td>-1.674715</td>\n",
       "      <td>-1.676968</td>\n",
       "      <td>-1.557591</td>\n",
       "      <td>-0.132726</td>\n",
       "      <td>1.308765</td>\n",
       "      <td>-1.511622</td>\n",
       "    </tr>\n",
       "    <tr>\n",
       "      <th>1</th>\n",
       "      <td>-1.697416</td>\n",
       "      <td>-0.542800</td>\n",
       "      <td>-0.141337</td>\n",
       "      <td>-0.615765</td>\n",
       "      <td>-1.798310</td>\n",
       "      <td>0.970097</td>\n",
       "      <td>-1.716469</td>\n",
       "      <td>-1.674715</td>\n",
       "      <td>-1.531780</td>\n",
       "      <td>-1.557591</td>\n",
       "      <td>-0.132726</td>\n",
       "      <td>1.308765</td>\n",
       "      <td>-1.511622</td>\n",
       "    </tr>\n",
       "    <tr>\n",
       "      <th>2</th>\n",
       "      <td>-1.798101</td>\n",
       "      <td>-0.558044</td>\n",
       "      <td>-0.141337</td>\n",
       "      <td>-0.590698</td>\n",
       "      <td>-1.798241</td>\n",
       "      <td>0.970097</td>\n",
       "      <td>-1.822898</td>\n",
       "      <td>-1.674715</td>\n",
       "      <td>-1.386591</td>\n",
       "      <td>-1.557591</td>\n",
       "      <td>-0.132726</td>\n",
       "      <td>1.308765</td>\n",
       "      <td>-1.511622</td>\n",
       "    </tr>\n",
       "    <tr>\n",
       "      <th>3</th>\n",
       "      <td>-1.697416</td>\n",
       "      <td>-0.290993</td>\n",
       "      <td>-0.141337</td>\n",
       "      <td>-0.578165</td>\n",
       "      <td>-1.798173</td>\n",
       "      <td>0.847690</td>\n",
       "      <td>-1.822898</td>\n",
       "      <td>-1.674715</td>\n",
       "      <td>-1.241402</td>\n",
       "      <td>-1.557591</td>\n",
       "      <td>-0.132726</td>\n",
       "      <td>1.308765</td>\n",
       "      <td>-1.511622</td>\n",
       "    </tr>\n",
       "    <tr>\n",
       "      <th>4</th>\n",
       "      <td>-1.697416</td>\n",
       "      <td>-0.290993</td>\n",
       "      <td>-0.141337</td>\n",
       "      <td>-0.540566</td>\n",
       "      <td>-1.798104</td>\n",
       "      <td>0.736412</td>\n",
       "      <td>-1.822898</td>\n",
       "      <td>-1.674715</td>\n",
       "      <td>-1.096214</td>\n",
       "      <td>-1.557591</td>\n",
       "      <td>-0.132726</td>\n",
       "      <td>1.308765</td>\n",
       "      <td>-1.511622</td>\n",
       "    </tr>\n",
       "    <tr>\n",
       "      <th>5</th>\n",
       "      <td>-1.798101</td>\n",
       "      <td>-0.558044</td>\n",
       "      <td>-0.141337</td>\n",
       "      <td>-0.502966</td>\n",
       "      <td>-1.798036</td>\n",
       "      <td>0.736412</td>\n",
       "      <td>-1.822898</td>\n",
       "      <td>-1.674715</td>\n",
       "      <td>-0.951025</td>\n",
       "      <td>-1.557591</td>\n",
       "      <td>-0.132726</td>\n",
       "      <td>1.308765</td>\n",
       "      <td>-1.511622</td>\n",
       "    </tr>\n",
       "    <tr>\n",
       "      <th>6</th>\n",
       "      <td>-1.697416</td>\n",
       "      <td>-0.542800</td>\n",
       "      <td>-0.141337</td>\n",
       "      <td>-0.465367</td>\n",
       "      <td>-1.797967</td>\n",
       "      <td>0.736412</td>\n",
       "      <td>-1.716469</td>\n",
       "      <td>-1.674715</td>\n",
       "      <td>-0.805836</td>\n",
       "      <td>-1.557591</td>\n",
       "      <td>-0.132726</td>\n",
       "      <td>1.308765</td>\n",
       "      <td>-1.511622</td>\n",
       "    </tr>\n",
       "    <tr>\n",
       "      <th>7</th>\n",
       "      <td>-1.596731</td>\n",
       "      <td>-0.277443</td>\n",
       "      <td>-0.141337</td>\n",
       "      <td>-0.427767</td>\n",
       "      <td>-1.797899</td>\n",
       "      <td>0.736412</td>\n",
       "      <td>-1.716469</td>\n",
       "      <td>-1.674715</td>\n",
       "      <td>-0.660648</td>\n",
       "      <td>-1.557591</td>\n",
       "      <td>-0.132726</td>\n",
       "      <td>1.308765</td>\n",
       "      <td>-1.511622</td>\n",
       "    </tr>\n",
       "    <tr>\n",
       "      <th>8</th>\n",
       "      <td>-1.395360</td>\n",
       "      <td>0.018966</td>\n",
       "      <td>-0.141337</td>\n",
       "      <td>-0.390168</td>\n",
       "      <td>-1.797830</td>\n",
       "      <td>0.736412</td>\n",
       "      <td>-1.610039</td>\n",
       "      <td>-1.674715</td>\n",
       "      <td>-0.515459</td>\n",
       "      <td>-1.557591</td>\n",
       "      <td>-0.132726</td>\n",
       "      <td>1.308765</td>\n",
       "      <td>-1.511622</td>\n",
       "    </tr>\n",
       "    <tr>\n",
       "      <th>9</th>\n",
       "      <td>-1.294675</td>\n",
       "      <td>-0.236793</td>\n",
       "      <td>-0.141337</td>\n",
       "      <td>-0.352568</td>\n",
       "      <td>-1.797762</td>\n",
       "      <td>0.736412</td>\n",
       "      <td>-1.397180</td>\n",
       "      <td>-1.674715</td>\n",
       "      <td>-0.370270</td>\n",
       "      <td>-1.557591</td>\n",
       "      <td>-0.132726</td>\n",
       "      <td>1.308765</td>\n",
       "      <td>-1.511622</td>\n",
       "    </tr>\n",
       "  </tbody>\n",
       "</table>\n",
       "</div>"
      ],
      "text/plain": [
       "       DEWP      HUMI     Iprec       Iws        No      PRES      TEMP  \\\n",
       "0 -1.697416 -0.542800 -0.141337 -0.628298 -1.798378  1.081375 -1.716469   \n",
       "1 -1.697416 -0.542800 -0.141337 -0.615765 -1.798310  0.970097 -1.716469   \n",
       "2 -1.798101 -0.558044 -0.141337 -0.590698 -1.798241  0.970097 -1.822898   \n",
       "3 -1.697416 -0.290993 -0.141337 -0.578165 -1.798173  0.847690 -1.822898   \n",
       "4 -1.697416 -0.290993 -0.141337 -0.540566 -1.798104  0.736412 -1.822898   \n",
       "5 -1.798101 -0.558044 -0.141337 -0.502966 -1.798036  0.736412 -1.822898   \n",
       "6 -1.697416 -0.542800 -0.141337 -0.465367 -1.797967  0.736412 -1.716469   \n",
       "7 -1.596731 -0.277443 -0.141337 -0.427767 -1.797899  0.736412 -1.716469   \n",
       "8 -1.395360  0.018966 -0.141337 -0.390168 -1.797830  0.736412 -1.610039   \n",
       "9 -1.294675 -0.236793 -0.141337 -0.352568 -1.797762  0.736412 -1.397180   \n",
       "\n",
       "        day      hour     month  precipitation    season      year  \n",
       "0 -1.674715 -1.676968 -1.557591      -0.132726  1.308765 -1.511622  \n",
       "1 -1.674715 -1.531780 -1.557591      -0.132726  1.308765 -1.511622  \n",
       "2 -1.674715 -1.386591 -1.557591      -0.132726  1.308765 -1.511622  \n",
       "3 -1.674715 -1.241402 -1.557591      -0.132726  1.308765 -1.511622  \n",
       "4 -1.674715 -1.096214 -1.557591      -0.132726  1.308765 -1.511622  \n",
       "5 -1.674715 -0.951025 -1.557591      -0.132726  1.308765 -1.511622  \n",
       "6 -1.674715 -0.805836 -1.557591      -0.132726  1.308765 -1.511622  \n",
       "7 -1.674715 -0.660648 -1.557591      -0.132726  1.308765 -1.511622  \n",
       "8 -1.674715 -0.515459 -1.557591      -0.132726  1.308765 -1.511622  \n",
       "9 -1.674715 -0.370270 -1.557591      -0.132726  1.308765 -1.511622  "
      ]
     },
     "execution_count": 14,
     "metadata": {},
     "output_type": "execute_result"
    }
   ],
   "source": [
    "data.head(10)"
   ]
  },
  {
   "cell_type": "code",
   "execution_count": 15,
   "id": "c818e860",
   "metadata": {},
   "outputs": [],
   "source": [
    "X_train, X_test, y_train, y_test = train_test_split(data[['HUMI','TEMP']], data['PRES'], test_size=0.2)\n",
    "\n",
    "model = LinearRegression()\n",
    "model.fit(X_train,y_train)\n",
    "predictions = model.predict(X_test)"
   ]
  },
  {
   "cell_type": "code",
   "execution_count": 16,
   "id": "75eb9b2f",
   "metadata": {},
   "outputs": [
    {
     "data": {
      "text/plain": [
       "array([ 0.19768382,  0.00943259,  0.25060895, ..., -0.01676901,\n",
       "        0.29059606, -0.5085912 ])"
      ]
     },
     "execution_count": 16,
     "metadata": {},
     "output_type": "execute_result"
    }
   ],
   "source": [
    "np.array(y_test)- predictions"
   ]
  },
  {
   "cell_type": "code",
   "execution_count": 17,
   "id": "67b2ca3f",
   "metadata": {
    "scrolled": true
   },
   "outputs": [
    {
     "data": {
      "text/plain": [
       "0.23052411464624348"
      ]
     },
     "execution_count": 17,
     "metadata": {},
     "output_type": "execute_result"
    }
   ],
   "source": [
    "mse(predictions, y_test)"
   ]
  },
  {
   "cell_type": "markdown",
   "id": "d394078b",
   "metadata": {},
   "source": []
  },
  {
   "cell_type": "code",
   "execution_count": 18,
   "id": "539e9737",
   "metadata": {},
   "outputs": [
    {
     "data": {
      "text/plain": [
       "[<matplotlib.lines.Line2D at 0x1a61ee23dc0>]"
      ]
     },
     "execution_count": 18,
     "metadata": {},
     "output_type": "execute_result"
    },
    {
     "data": {
      "image/png": "[encoded data removed]",
      "text/plain": [
       "<Figure size 432x288 with 1 Axes>"
      ]
     },
     "metadata": {
      "needs_background": "light"
     },
     "output_type": "display_data"
    }
   ],
   "source": [
    "plt.plot(predictions) #todo: денормализовать полученный результат..."
   ]
  },
  {
   "cell_type": "markdown",
   "id": "7ad3ffa8",
   "metadata": {},
   "source": [
    "а теперь добавим остальные колонки"
   ]
  },
  {
   "cell_type": "code",
   "execution_count": 21,
   "id": "4e434b19",
   "metadata": {},
   "outputs": [],
   "source": [
    "X_train, X_test, y_train, y_test = train_test_split(data.drop('PRES',axis=1), data['PRES'], test_size=0.2)\n",
    "\n",
    "model = LinearRegression()\n",
    "model.fit(X_train,y_train)\n",
    "predictions = model.predict(X_test)"
   ]
  },
  {
   "cell_type": "code",
   "execution_count": 22,
   "id": "9f83140f",
   "metadata": {
    "scrolled": true
   },
   "outputs": [
    {
     "data": {
      "text/plain": [
       "array([-0.31753078, -0.39155736, -0.17092829, ...,  0.20473515,\n",
       "       -0.52438677, -0.36532554])"
      ]
     },
     "execution_count": 22,
     "metadata": {},
     "output_type": "execute_result"
    }
   ],
   "source": [
    "np.array(y_test)- predictions"
   ]
  },
  {
   "cell_type": "code",
   "execution_count": 23,
   "id": "ce1b6cad",
   "metadata": {
    "scrolled": true
   },
   "outputs": [
    {
     "data": {
      "text/plain": [
       "0.19502359628992494"
      ]
     },
     "execution_count": 23,
     "metadata": {},
     "output_type": "execute_result"
    }
   ],
   "source": [
    "mse(predictions, y_test)"
   ]
  },
  {
   "cell_type": "code",
   "execution_count": 24,
   "id": "8c6a8438",
   "metadata": {},
   "outputs": [
    {
     "data": {
      "text/plain": [
       "[<matplotlib.lines.Line2D at 0x1a62067a670>]"
      ]
     },
     "execution_count": 24,
     "metadata": {},
     "output_type": "execute_result"
    },
    {
     "data": {
      "image/png": "[encoded data removed]",
      "text/plain": [
       "<Figure size 432x288 with 1 Axes>"
      ]
     },
     "metadata": {
      "needs_background": "light"
     },
     "output_type": "display_data"
    }
   ],
   "source": [
    "plt.plot(predictions) #todo: денормализовать полученный результат..."
   ]
  },
  {
   "cell_type": "code",
   "execution_count": null,
   "id": "82eafd56",
   "metadata": {},
   "outputs": [],
   "source": []
  }
 ],
 "metadata": {
  "kernelspec": {
   "display_name": "Python 3 (ipykernel)",
   "language": "python",
   "name": "python3"
  },
  "language_info": {
   "codemirror_mode": {
    "name": "ipython",
    "version": 3
   },
   "file_extension": ".py",
   "mimetype": "text/x-python",
   "name": "python",
   "nbconvert_exporter": "python",
   "pygments_lexer": "ipython3",
   "version": "3.9.7"
  }
 },
 "nbformat": 4,
 "nbformat_minor": 5
}
